{
 "cells": [
  {
   "cell_type": "code",
   "execution_count": 1,
   "metadata": {},
   "outputs": [],
   "source": [
    "# -*- coding: utf-8 -*-\n",
    "\"\"\"\n",
    "Created on Wed Oct 23 11:13:38 2019\n",
    "\n",
    "@author: HARSHITH\n",
    "\"\"\"\n",
    "import matplotlib.pyplot as pt #To plot the image\n",
    "import pandas as pd # to extract the Dataset from csv file\n",
    "from sklearn.tree import DecisionTreeClassifier #To predict the accuracy using Decision Tree Classifier"
   ]
  },
  {
   "cell_type": "code",
   "execution_count": 2,
   "metadata": {},
   "outputs": [
    {
     "name": "stdout",
     "output_type": "stream",
     "text": [
      "        45  0  0.1  0.2  0.3  0.4  0.5  0.6  0.7  0.8  ...  0.524  0.525  \\\n",
      "0       36  0    0    0    0    0    0    0    0    0  ...      0      0   \n",
      "1       43  0    0    0    0    0    0    0    0    0  ...      0      0   \n",
      "2       15  0    0    0    0    0    0    0    0    0  ...      0      0   \n",
      "3        4  0    0    0    0    0    0    0    0    0  ...      0      0   \n",
      "4       42  0    0    0    0    0    0    0    0    0  ...      0      0   \n",
      "5       26  0    0    0    0    0    0    0    0    0  ...      0      0   \n",
      "6       32  0    0    0    0    0    0    0    0    0  ...      0      0   \n",
      "7       20  0    0    0    0    0    0    0    0    0  ...      0      0   \n",
      "8        1  0    0    0    0    0    0    0    0    0  ...      0      0   \n",
      "9       46  0    0    0    0    0    0    0    0    0  ...      0      0   \n",
      "10      43  0    0    0    0    0    0    0    0    0  ...      0      0   \n",
      "11      15  0    0    0    0    0    0    0    0    0  ...      0      0   \n",
      "12      13  0    0    0    0    0    0    0    0    0  ...      0      0   \n",
      "13      24  0    0    0    0    0    0    0    0    0  ...      0      0   \n",
      "14      12  0    0    0    0    0    0    0    0    0  ...      0      0   \n",
      "15       5  0    0    0    0    0    0    0    0    0  ...      0      0   \n",
      "16      17  0    0    0    0    0    0    0    0    0  ...      0      0   \n",
      "17       3  0    0    0    0    0    0    0    0    0  ...      0      0   \n",
      "18      40  0    0    0    0    0    0    0    0    0  ...      0      0   \n",
      "19      42  0    0    0    0    0    0    0    0    0  ...      0      0   \n",
      "20      14  0    0    0    0    0    0    0    0    0  ...      0      0   \n",
      "21      14  0    0    0    0    0    0    0    0    0  ...      0      0   \n",
      "22      44  0    0    0    0    0    0    0    0    0  ...      0      0   \n",
      "23      32  0    0    0    0    0    0    0    0    0  ...      0      0   \n",
      "24       3  0    0    0    0    0    0    0    0    0  ...      0      0   \n",
      "25      19  0    0    0    0    0    0    0    0    0  ...      0      0   \n",
      "26      42  0    0    0    0    0    0    0    0    0  ...      0      0   \n",
      "27      29  0    0    0    0    0    0    0    0    0  ...      0      0   \n",
      "28      40  0    0    0    0    0    0    0    0    0  ...      0      0   \n",
      "29      17  0    0    0    0    0    0    0    0    0  ...      0      0   \n",
      "...     .. ..  ...  ...  ...  ...  ...  ...  ...  ...  ...    ...    ...   \n",
      "112769  12  0    0    0    0    0    0    0    0    0  ...      0      0   \n",
      "112770  11  0    0    0    0    0    0    0    0    0  ...      0      0   \n",
      "112771   6  0    0    0    0    0    0    0    0    0  ...      0      0   \n",
      "112772  35  0    0    0    0    0    0    0    0    0  ...      0      0   \n",
      "112773  14  0    0    0    0    0    0    0    0    0  ...      0      0   \n",
      "112774  43  0    0    0    0    0    0    0    0    0  ...      0      0   \n",
      "112775  39  0    0    0    0    0    0    0    0    0  ...      0      0   \n",
      "112776  16  0    0    0    0    0    0    0    0    0  ...      0      0   \n",
      "112777  44  0    0    0    0    0    0    0    0    0  ...      0      0   \n",
      "112778  15  0    0    0    0    0    0    0    0    0  ...      0      0   \n",
      "112779  35  0    0    0    0    0    0    0    0    0  ...      0      0   \n",
      "112780  26  0    0    0    0    0    0    0    0    0  ...      0      0   \n",
      "112781   9  0    0    0    0    0    0    0    0    0  ...      0      0   \n",
      "112782  19  0    0    0    0    0    0    0    0    0  ...      0      0   \n",
      "112783  24  0    0    0    0    0    0    0    0    0  ...      0      0   \n",
      "112784   8  0    0    0    0    0    0    0    0    0  ...      0      0   \n",
      "112785  39  0    0    0    0    0    0    0    0    0  ...      0      0   \n",
      "112786  40  0    0    0    0    0    0    0    0    0  ...      0      0   \n",
      "112787   7  0    0    0    0    0    0    0    0    0  ...      0      0   \n",
      "112788  26  0    0    0    0    0    0    0    0    0  ...      0      0   \n",
      "112789  18  0    0    0    0    0    0    0    0    0  ...      0      0   \n",
      "112790  10  0    0    0    0    0    0    0    0    0  ...      0      0   \n",
      "112791  19  0    0    0    0    0    0    0    0    0  ...      0      0   \n",
      "112792  33  0    0    0    0    0    0    0    0    0  ...      0      0   \n",
      "112793   6  0    0    0    0    0    0    0    0    0  ...      0      0   \n",
      "112794  22  0    0    0    0    0    0    0    0    0  ...      0      0   \n",
      "112795  17  0    0    0    0    0    0    0    0    0  ...      0      0   \n",
      "112796  23  0    0    0    0    0    0    0    0    0  ...      0      0   \n",
      "112797  31  0    0    0    0    0    0    0    0    0  ...      0      0   \n",
      "112798   8  0    0    0    0    0    0    0    0    0  ...      0      0   \n",
      "\n",
      "        0.526  0.527  0.528  0.529  0.530  0.531  0.532  0.533  \n",
      "0           0      0      0      0      0      0      0      0  \n",
      "1           0      0      0      0      0      0      0      0  \n",
      "2           0      0      0      0      0      0      0      0  \n",
      "3           0      0      0      0      0      0      0      0  \n",
      "4           0      0      0      0      0      0      0      0  \n",
      "5           0      0      0      0      0      0      0      0  \n",
      "6           0      0      0      0      0      0      0      0  \n",
      "7           0      0      0      0      0      0      0      0  \n",
      "8           0      0      0      0      0      0      0      0  \n",
      "9           0      0      0      0      0      0      0      0  \n",
      "10          0      0      0      0      0      0      0      0  \n",
      "11          0      0      0      0      0      0      0      0  \n",
      "12          0      0      0      0      0      0      0      0  \n",
      "13          0      0      0      0      0      0      0      0  \n",
      "14          0      0      0      0      0      0      0      0  \n",
      "15          0      0      0      0      0      0      0      0  \n",
      "16          0      0      0      0      0      0      0      0  \n",
      "17          0      0      0      0      0      0      0      0  \n",
      "18          0      0      0      0      0      0      0      0  \n",
      "19          0      0      0      0      0      0      0      0  \n",
      "20          0      0      0      0      0      0      0      0  \n",
      "21          0      0      0      0      0      0      0      0  \n",
      "22          0      0      0      0      0      0      0      0  \n",
      "23          0      0      0      0      0      0      0      0  \n",
      "24          0      0      0      0      0      0      0      0  \n",
      "25          0      0      0      0      0      0      0      0  \n",
      "26          0      0      0      0      0      0      0      0  \n",
      "27          0      0      0      0      0      0      0      0  \n",
      "28          0      0      0      0      0      0      0      0  \n",
      "29          0      0      0      0      0      0      0      0  \n",
      "...       ...    ...    ...    ...    ...    ...    ...    ...  \n",
      "112769      0      0      0      0      0      0      0      0  \n",
      "112770      0      0      0      0      0      0      0      0  \n",
      "112771      0      0      0      0      0      0      0      0  \n",
      "112772      0      0      0      0      0      0      0      0  \n",
      "112773      0      0      0      0      0      0      0      0  \n",
      "112774      0      0      0      0      0      0      0      0  \n",
      "112775      0      0      0      0      0      0      0      0  \n",
      "112776      0      0      0      0      0      0      0      0  \n",
      "112777      0      0      0      0      0      0      0      0  \n",
      "112778      0      0      0      0      0      0      0      0  \n",
      "112779      0      0      0      0      0      0      0      0  \n",
      "112780      0      0      0      0      0      0      0      0  \n",
      "112781      0      0      0      0      0      0      0      0  \n",
      "112782      0      0      0      0      0      0      0      0  \n",
      "112783      0      0      0      0      0      0      0      0  \n",
      "112784      0      0      0      0      0      0      0      0  \n",
      "112785      0      0      0      0      0      0      0      0  \n",
      "112786      0      0      0      0      0      0      0      0  \n",
      "112787      0      0      0      0      0      0      0      0  \n",
      "112788      0      0      0      0      0      0      0      0  \n",
      "112789      0      0      0      0      0      0      0      0  \n",
      "112790      0      0      0      0      0      0      0      0  \n",
      "112791      0      0      0      0      0      0      0      0  \n",
      "112792      0      0      0      0      0      0      0      0  \n",
      "112793      0      0      0      0      0      0      0      0  \n",
      "112794      0      0      0      0      0      0      0      0  \n",
      "112795      0      0      0      0      0      0      0      0  \n",
      "112796      0      0      0      0      0      0      0      0  \n",
      "112797      0      0      0      0      0      0      0      0  \n",
      "112798      0      0      0      0      0      0      0      0  \n",
      "\n",
      "[112799 rows x 785 columns]\n"
     ]
    }
   ],
   "source": [
    "#Read the Training Dataset\n",
    "x=pd.read_csv(\"F:/Project work 1/Character + Digits data/characters-digits-train.csv\")\n",
    "print(x)"
   ]
  },
  {
   "cell_type": "code",
   "execution_count": 3,
   "metadata": {},
   "outputs": [
    {
     "name": "stdout",
     "output_type": "stream",
     "text": [
      "       41  0  0.1  0.2  0.3  0.4  0.5  0.6  0.7  0.8  ...  0.523  0.524  \\\n",
      "0      39  0    0    0    0    0    0    0    0    0  ...      0      0   \n",
      "1       9  0    0    0    0    0    0    0    0    0  ...      0      0   \n",
      "2      26  0    0    0    0    0    0    0    0    0  ...      0      0   \n",
      "3      44  0    0    0    0    0    0    0    0    0  ...      0      0   \n",
      "4      33  0    0    0    0    0    0    0    0    0  ...      0      0   \n",
      "5      14  0    0    0    0    0    0    0    0    0  ...      0      0   \n",
      "6      11  0    0    0    0    0    0    0    0    0  ...      0      0   \n",
      "7       3  0    0    0    0    0    0    0    0    0  ...      0      0   \n",
      "8      12  0    0    0    0    0    0    0    0    0  ...      0      0   \n",
      "9      16  0    0    0    0    0    0    0    0    0  ...      0      0   \n",
      "10      7  0    0    0    0    0    0    0    0    0  ...      0      0   \n",
      "11      2  0    0    0    0    0    0    0    0    0  ...      0      0   \n",
      "12     16  0    0    0    0    0    0    0    0    0  ...      0      0   \n",
      "13     16  0    0    0    0    0    0    0    0    0  ...      0      0   \n",
      "14     27  0    0    0    0    0    0    0    0    0  ...      0      0   \n",
      "15      6  0    0    0    0    0    0    0    0    0  ...      0      0   \n",
      "16     44  0    0    0    0    0    0    0    0    0  ...      0      0   \n",
      "17     28  0    0    0    0    0    0    0    0    0  ...      0      0   \n",
      "18     45  0    0    0    0    0    0    0    0    0  ...      0      0   \n",
      "19     29  0    0    0    0    0    0    0    0    0  ...      0      0   \n",
      "20      8  0    0    0    0    0    0    0    0    0  ...      0      0   \n",
      "21      4  0    0    0    0    0    0    0    0    0  ...      0      0   \n",
      "22     35  0    0    0    0    0    0    0    0    0  ...      0      0   \n",
      "23     39  0    0    0    0    0    0    0    0    0  ...      0      0   \n",
      "24     40  0    0    0    0    0    0    0    0    0  ...      0      0   \n",
      "25     39  0    0    0    0    0    0    0    0    0  ...      0      0   \n",
      "26     33  0    0    0    0    0    0    0    0    0  ...      0      0   \n",
      "27     37  0    0    0    0    0    0    0    0    0  ...      0      0   \n",
      "28     16  0    0    0    0    0    0    0    0    0  ...      0      0   \n",
      "29     12  0    0    0    0    0    0    0    0    0  ...      0      0   \n",
      "...    .. ..  ...  ...  ...  ...  ...  ...  ...  ...  ...    ...    ...   \n",
      "18769  37  0    0    0    0    0    0    0    0    0  ...      0      0   \n",
      "18770   6  0    0    0    0    0    0    0    0    0  ...      0      0   \n",
      "18771  12  0    0    0    0    0    0    0    0    0  ...      0      0   \n",
      "18772  45  0    0    0    0    0    0    0    0    0  ...      0      0   \n",
      "18773   5  0    0    0    0    0    0    0    0    0  ...      0      0   \n",
      "18774  24  0    0    0    0    0    0    0    0    0  ...      0      0   \n",
      "18775  29  0    0    0    0    0    0    0    0    0  ...      0      0   \n",
      "18776   0  0    0    0    0    0    0    0    0    0  ...      0      0   \n",
      "18777  22  0    0    0    0    0    0    0    0    0  ...      0      0   \n",
      "18778  22  0    0    0    0    0    0    0    0    0  ...      0      0   \n",
      "18779  31  0    0    0    0    0    0    0    0    0  ...      0      0   \n",
      "18780  31  0    0    0    0    0    0    0    0    0  ...      0      0   \n",
      "18781  20  0    0    0    0    0    0    0    0    0  ...      0      0   \n",
      "18782   8  0    0    0    0    0    0    0    0    0  ...      0      0   \n",
      "18783  44  0    0    0    0    0    0    0    0    0  ...      0      0   \n",
      "18784  27  0    0    0    0    0    0    0    0    0  ...      0      0   \n",
      "18785  43  0    0    0    0    0    0    0    0    0  ...      0      0   \n",
      "18786  40  0    0    0    0    0    0    0    0    0  ...      0      0   \n",
      "18787  38  0    0    0    0    0    0    0    0    0  ...      0      0   \n",
      "18788  24  0    0    0    0    0    0    0    0    0  ...      0      0   \n",
      "18789  33  0    0    0    0    0    0    0    0    0  ...      0      0   \n",
      "18790  23  0    0    0    0    0    0    0    0    0  ...      0      0   \n",
      "18791  29  0    0    0    0    0    0    0    0    0  ...      0      0   \n",
      "18792  37  0    0    0    0    0    0    0    0    0  ...      0      0   \n",
      "18793   0  0    0    0    0    0    0    0    0    0  ...      0      0   \n",
      "18794  45  0    0    0    0    0    0    0    0    0  ...      0      0   \n",
      "18795  15  0    0    0    0    0    0    0    0    0  ...      0      0   \n",
      "18796   1  0    0    0    0    0    0    0    0    0  ...      0      0   \n",
      "18797  26  0    0    0    0    0    0    0    0    0  ...      0      0   \n",
      "18798  33  0    0    0    0    0    0    0    0    0  ...      0      0   \n",
      "\n",
      "       0.525  0.526  0.527  0.528  0.529  0.530  0.531  0.532  \n",
      "0          0      0      0      0      0      0      0      0  \n",
      "1          0      0      0      0      0      0      0      0  \n",
      "2          0      0      0      0      0      0      0      0  \n",
      "3          0      0      0      0      0      0      0      0  \n",
      "4          0      0      0      0      0      0      0      0  \n",
      "5          0      0      0      0      0      0      0      0  \n",
      "6          0      0      0      0      0      0      0      0  \n",
      "7          0      0      0      0      0      0      0      0  \n",
      "8          0      0      0      0      0      0      0      0  \n",
      "9          0      0      0      0      0      0      0      0  \n",
      "10         0      0      0      0      0      0      0      0  \n",
      "11         0      0      0      0      0      0      0      0  \n",
      "12         0      0      0      0      0      0      0      0  \n",
      "13         0      0      0      0      0      0      0      0  \n",
      "14         0      0      0      0      0      0      0      0  \n",
      "15         0      0      0      0      0      0      0      0  \n",
      "16         0      0      0      0      0      0      0      0  \n",
      "17         0      0      0      0      0      0      0      0  \n",
      "18         0      0      0      0      0      0      0      0  \n",
      "19         0      0      0      0      0      0      0      0  \n",
      "20         0      0      0      0      0      0      0      0  \n",
      "21         0      0      0      0      0      0      0      0  \n",
      "22         0      0      0      0      0      0      0      0  \n",
      "23         0      0      0      0      0      0      0      0  \n",
      "24         0      0      0      0      0      0      0      0  \n",
      "25         0      0      0      0      0      0      0      0  \n",
      "26         0      0      0      0      0      0      0      0  \n",
      "27         0      0      0      0      0      0      0      0  \n",
      "28         0      0      0      0      0      0      0      0  \n",
      "29         0      0      0      0      0      0      0      0  \n",
      "...      ...    ...    ...    ...    ...    ...    ...    ...  \n",
      "18769      0      0      0      0      0      0      0      0  \n",
      "18770      0      0      0      0      0      0      0      0  \n",
      "18771      0      0      0      0      0      0      0      0  \n",
      "18772      0      0      0      0      0      0      0      0  \n",
      "18773      0      0      0      0      0      0      0      0  \n",
      "18774      0      0      0      0      0      0      0      0  \n",
      "18775      0      0      0      0      0      0      0      0  \n",
      "18776      0      0      0      0      0      0      0      0  \n",
      "18777      0      0      0      0      0      0      0      0  \n",
      "18778      0      0      0      0      0      0      0      0  \n",
      "18779      0      0      0      0      0      0      0      0  \n",
      "18780      0      0      0      0      0      0      0      0  \n",
      "18781      0      0      0      0      0      0      0      0  \n",
      "18782      0      0      0      0      0      0      0      0  \n",
      "18783      0      0      0      0      0      0      0      0  \n",
      "18784      0      0      0      0      0      0      0      0  \n",
      "18785      0      0      0      0      0      0      0      0  \n",
      "18786      0      0      0      0      0      0      0      0  \n",
      "18787      0      0      0      0      0      0      0      0  \n",
      "18788      0      0      0      0      0      0      0      0  \n",
      "18789      0      0      0      0      0      0      0      0  \n",
      "18790      0      0      0      0      0      0      0      0  \n",
      "18791      0      0      0      0      0      0      0      0  \n",
      "18792      0      0      0      0      0      0      0      0  \n",
      "18793      0      0      0      0      0      0      0      0  \n",
      "18794      0      0      0      0      0      0      0      0  \n",
      "18795      0      0      0      0      0      0      0      0  \n",
      "18796      0      0      0      0      0      0      0      0  \n",
      "18797      0      0      0      0      0      0      0      0  \n",
      "18798      0      0      0      0      0      0      0      0  \n",
      "\n",
      "[18799 rows x 785 columns]\n"
     ]
    }
   ],
   "source": [
    "#Read the Testing Dataset\n",
    "y=pd.read_csv(\"F:/Project work 1/Character + Digits data/characters-digits-test.csv\")\n",
    "print(y)"
   ]
  },
  {
   "cell_type": "code",
   "execution_count": 4,
   "metadata": {},
   "outputs": [
    {
     "name": "stderr",
     "output_type": "stream",
     "text": [
      "C:\\Users\\HARSHITH\\Anaconda3\\lib\\site-packages\\ipykernel_launcher.py:1: FutureWarning: Method .as_matrix will be removed in a future version. Use .values instead.\n",
      "  \"\"\"Entry point for launching an IPython kernel.\n"
     ]
    },
    {
     "name": "stdout",
     "output_type": "stream",
     "text": [
      "[[36  0  0 ...  0  0  0]\n",
      " [43  0  0 ...  0  0  0]\n",
      " [15  0  0 ...  0  0  0]\n",
      " ...\n",
      " [23  0  0 ...  0  0  0]\n",
      " [31  0  0 ...  0  0  0]\n",
      " [ 8  0  0 ...  0  0  0]]\n"
     ]
    }
   ],
   "source": [
    "#Convert the Training Dataset into Matrix form\n",
    "data=x.as_matrix()\n",
    "print(data)"
   ]
  },
  {
   "cell_type": "code",
   "execution_count": 5,
   "metadata": {},
   "outputs": [
    {
     "name": "stdout",
     "output_type": "stream",
     "text": [
      "[[39  0  0 ...  0  0  0]\n",
      " [ 9  0  0 ...  0  0  0]\n",
      " [26  0  0 ...  0  0  0]\n",
      " ...\n",
      " [ 1  0  0 ...  0  0  0]\n",
      " [26  0  0 ...  0  0  0]\n",
      " [33  0  0 ...  0  0  0]]\n"
     ]
    },
    {
     "name": "stderr",
     "output_type": "stream",
     "text": [
      "C:\\Users\\HARSHITH\\Anaconda3\\lib\\site-packages\\ipykernel_launcher.py:1: FutureWarning: Method .as_matrix will be removed in a future version. Use .values instead.\n",
      "  \"\"\"Entry point for launching an IPython kernel.\n"
     ]
    }
   ],
   "source": [
    "#Convert the Testing Dataset into Matrix form\n",
    "data1=y.as_matrix()\n",
    "print(data1)"
   ]
  },
  {
   "cell_type": "code",
   "execution_count": 73,
   "metadata": {},
   "outputs": [
    {
     "data": {
      "text/plain": [
       "DecisionTreeClassifier(class_weight=None, criterion='gini', max_depth=None,\n",
       "            max_features=None, max_leaf_nodes=None,\n",
       "            min_impurity_decrease=0.0, min_impurity_split=None,\n",
       "            min_samples_leaf=1, min_samples_split=2,\n",
       "            min_weight_fraction_leaf=0.0, presort=False, random_state=None,\n",
       "            splitter='best')"
      ]
     },
     "execution_count": 73,
     "metadata": {},
     "output_type": "execute_result"
    }
   ],
   "source": [
    "clf=DecisionTreeClassifier()\n",
    "#Taken the Training data contains from 0 to 112798 and Classify from first column (0th Column is Labels)\n",
    "xtrain=data[0:112798,1:]\n",
    "#Taken the Training data contains from 0 to 112798 that considers 0th column as train_label\n",
    "train_label=data[0:112798,0]\n",
    "#List of features ``and it's Labels fitted to form classification \n",
    "clf.fit(xtrain,train_label)"
   ]
  },
  {
   "cell_type": "code",
   "execution_count": 86,
   "metadata": {},
   "outputs": [],
   "source": [
    "#Taken the testing Dataset contains from 0 to 18978 and classify from first column (0th column is labels)\n",
    "xtest=data1[0:18798,1:]\n",
    "#Taken the testing data contains from 0 to 18978 that considers 0th column as train_label\n",
    "actual_label=data1[0:18798,0]"
   ]
  },
  {
   "cell_type": "code",
   "execution_count": 84,
   "metadata": {},
   "outputs": [
    {
     "data": {
      "image/png": "[encoded data removed]",
      "text/plain": [
       "<matplotlib.figure.Figure at 0x1a107e01668>"
      ]
     },
     "metadata": {},
     "output_type": "display_data"
    }
   ],
   "source": [
    "#Taken an image to predict value from Testing Dataset\n",
    "d=xtest[65]\n",
    "#Plot the image in 28X28.\n",
    "d.shape=(28,28)\n",
    "#255-d is to remove the back background and display the white background and images shown in Gray form.\n",
    "pt.imshow(255-d,cmap='gray')\n",
    "pt.show()"
   ]
  },
  {
   "cell_type": "code",
   "execution_count": 83,
   "metadata": {},
   "outputs": [
    {
     "name": "stdout",
     "output_type": "stream",
     "text": [
      "[3]\n"
     ]
    }
   ],
   "source": [
    "#Predict the Image value with the Trained set that is classified.\n",
    "print(clf.predict([xtest[65]]))"
   ]
  },
  {
   "cell_type": "code",
   "execution_count": 85,
   "metadata": {},
   "outputs": [
    {
     "name": "stdout",
     "output_type": "stream",
     "text": [
      "accuracy 99.05153335441037\n"
     ]
    }
   ],
   "source": [
    "#Find the Accuracy between the Features compared with Testing feature\n",
    "p=clf.predict(xtest)\n",
    "count=0\n",
    "for i in range(0,18798):\n",
    "    count+=1 if p[i]==actual_label[i] else 0\n",
    "print(\"accuracy\",(count/18978)*100)"
   ]
  },
  {
   "cell_type": "code",
   "execution_count": null,
   "metadata": {},
   "outputs": [],
   "source": []
  }
 ],
 "metadata": {
  "kernelspec": {
   "display_name": "Python 3",
   "language": "python",
   "name": "python3"
  },
  "language_info": {
   "codemirror_mode": {
    "name": "ipython",
    "version": 3
   },
   "file_extension": ".py",
   "mimetype": "text/x-python",
   "name": "python",
   "nbconvert_exporter": "python",
   "pygments_lexer": "ipython3",
   "version": "3.6.4"
  }
 },
 "nbformat": 4,
 "nbformat_minor": 2
}
